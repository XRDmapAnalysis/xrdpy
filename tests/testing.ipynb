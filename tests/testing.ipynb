{
 "cells": [
  {
   "cell_type": "markdown",
   "id": "b6535595-650d-4d88-bbdd-59462ec6ce1a",
   "metadata": {},
   "source": [
    "# 1. Load modules"
   ]
  },
  {
   "cell_type": "code",
   "execution_count": 1,
   "id": "445d2204-62f0-450d-8f9e-3f23d013197c",
   "metadata": {},
   "outputs": [],
   "source": [
    "%matplotlib widget \n",
    "#%matplotlib notebook\n",
    "import matplotlib.pyplot as plt\n",
    "import numpy as np\n",
    "from matplotlib import colors\n",
    "import matplotlib.ticker as ticker\n",
    "from scipy import optimize\n",
    "import os, sys"
   ]
  },
  {
   "cell_type": "code",
   "execution_count": 2,
   "id": "91e26d74-1695-4759-9c6e-41a7aab3a045",
   "metadata": {},
   "outputs": [
    {
     "ename": "ModuleNotFoundError",
     "evalue": "No module named 'xrdpy.src'",
     "output_type": "error",
     "traceback": [
      "\u001b[0;31m---------------------------------------------------------------------------\u001b[0m",
      "\u001b[0;31mModuleNotFoundError\u001b[0m                       Traceback (most recent call last)",
      "Cell \u001b[0;32mIn[2], line 1\u001b[0m\n\u001b[0;32m----> 1\u001b[0m \u001b[38;5;28;01mimport\u001b[39;00m \u001b[38;5;21;01mxrdpy\u001b[39;00m\n",
      "File \u001b[0;32m/local/miniforge3/envs/sqsgen/lib/python3.12/site-packages/xrdpy/__init__.py:3\u001b[0m\n\u001b[1;32m      1\u001b[0m __version__ \u001b[38;5;241m=\u001b[39m \u001b[38;5;124m\"\u001b[39m\u001b[38;5;124m0.0.1\u001b[39m\u001b[38;5;124m\"\u001b[39m\n\u001b[0;32m----> 3\u001b[0m \u001b[38;5;28;01mfrom\u001b[39;00m \u001b[38;5;21;01m.\u001b[39;00m\u001b[38;5;21;01mXRD\u001b[39;00m \u001b[38;5;28;01mimport\u001b[39;00m general_fns, xrd, plottings\n\u001b[1;32m      5\u001b[0m __all__ \u001b[38;5;241m=\u001b[39m [\u001b[38;5;124m'\u001b[39m\u001b[38;5;124mgeneral_fns\u001b[39m\u001b[38;5;124m'\u001b[39m, \u001b[38;5;124m'\u001b[39m\u001b[38;5;124mxrd\u001b[39m\u001b[38;5;124m'\u001b[39m, \u001b[38;5;124m'\u001b[39m\u001b[38;5;124mplottings\u001b[39m\u001b[38;5;124m'\u001b[39m]\n",
      "File \u001b[0;32m/local/miniforge3/envs/sqsgen/lib/python3.12/site-packages/xrdpy/XRD.py:2\u001b[0m\n\u001b[1;32m      1\u001b[0m \u001b[38;5;28;01mimport\u001b[39;00m \u001b[38;5;21;01mnumpy\u001b[39;00m \u001b[38;5;28;01mas\u001b[39;00m \u001b[38;5;21;01mnp\u001b[39;00m\n\u001b[0;32m----> 2\u001b[0m \u001b[38;5;28;01mfrom\u001b[39;00m \u001b[38;5;21;01m.\u001b[39;00m\u001b[38;5;21;01msrc\u001b[39;00m\u001b[38;5;21;01m.\u001b[39;00m\u001b[38;5;21;01mget_xrd\u001b[39;00m \u001b[38;5;28;01mimport\u001b[39;00m _general_fns, _xrd_read, _xrd_reciprocal\n\u001b[1;32m      3\u001b[0m \u001b[38;5;28;01mfrom\u001b[39;00m \u001b[38;5;21;01m.\u001b[39;00m\u001b[38;5;21;01msrc\u001b[39;00m\u001b[38;5;21;01m.\u001b[39;00m\u001b[38;5;21;01mplot_xrd\u001b[39;00m \u001b[38;5;28;01mimport\u001b[39;00m _xrdplot\n\u001b[1;32m      4\u001b[0m \u001b[38;5;28;01mfrom\u001b[39;00m \u001b[38;5;21;01m.\u001b[39;00m\u001b[38;5;21;01mBasicFunctions\u001b[39;00m\u001b[38;5;21;01m.\u001b[39;00m\u001b[38;5;21;01mgeneral_plot_functions\u001b[39;00m \u001b[38;5;28;01mimport\u001b[39;00m _GeneratePlots\n",
      "\u001b[0;31mModuleNotFoundError\u001b[0m: No module named 'xrdpy.src'"
     ]
    }
   ],
   "source": [
    "import xrdpy"
   ]
  },
  {
   "cell_type": "code",
   "execution_count": null,
   "id": "ee0305cb-5cdc-4abc-a4a1-df5c4f784c03",
   "metadata": {},
   "outputs": [],
   "source": [
    "import sys\n",
    "sys.path.insert(0, '/local/MyGitHub/xrdpy')\n",
    "import xrdpy\n",
    "# %load_ext autoreload\n",
    "# %autoreload 2"
   ]
  },
  {
   "cell_type": "markdown",
   "id": "9a4a87f4-f6b0-4bb6-891f-a36175eb0423",
   "metadata": {},
   "source": [
    "# 2. Set up the xrd-file path"
   ]
  },
  {
   "cell_type": "code",
   "execution_count": null,
   "id": "eb5bba09-83c3-4665-8106-46afdcae90c1",
   "metadata": {},
   "outputs": [],
   "source": [
    "filepath = \"/local/MyGitHub/xrdpy/tests/xrd_files/\"\n",
    "filename = \"NT3334C_RSM_w2T-2T-105AlN-AlGaN_fast.xrdml\""
   ]
  },
  {
   "cell_type": "code",
   "execution_count": null,
   "id": "2f472658-a3cf-439d-b4f4-67e6318d306c",
   "metadata": {},
   "outputs": [],
   "source": [
    "savefig = True\n",
    "save_fig_path = '/local/MyGitHub/xrdpy/imgs/'"
   ]
  },
  {
   "cell_type": "code",
   "execution_count": null,
   "id": "ba8eb2d4-30a1-4aa7-8ee2-738ae63dbf55",
   "metadata": {},
   "outputs": [],
   "source": [
    "gen_fns = xrdpy.general_fns(print_log='low')\n",
    "xrd_ = xrdpy.xrd(print_log='low')\n",
    "xrd_plt = xrdpy.plottings(save_figure_dir=save_fig_path, print_log='low')"
   ]
  },
  {
   "cell_type": "markdown",
   "id": "b7a8a4a3-9699-4fcb-821e-681dda8b5023",
   "metadata": {},
   "source": [
    "# 3. Set default variables\n",
    "\n",
    "#### Variable source: https://www.ioffe.ru/SVA/NSM/Semicond/"
   ]
  },
  {
   "cell_type": "code",
   "execution_count": null,
   "id": "b4d8047c-c3a6-4467-9e37-8272c998ab6f",
   "metadata": {},
   "outputs": [],
   "source": [
    "alloy_type='ternary' \n",
    "structure_type='wz'\n",
    "\n",
    "# Lattice parameters for AlN and GaN binaries\n",
    "AlN_a, AlN_c = 3.112, 4.982\n",
    "GaN_a, GaN_c = 3.189, 5.185    \n",
    "\n",
    "# Cij parameters for AlN and GaN binaries\n",
    "GaN_C13 = 106\n",
    "GaN_C33 = 398\n",
    "AlN_C13 = 108\n",
    "AlN_C33 = 373\n",
    "\n",
    "# Bowing parameters\n",
    "bowing_a = 0.0\n",
    "bowing_c = 0.0\n",
    "bowing_C13 = 0.0\n",
    "bowing_C33 = 0.0\n",
    "\n",
    "# reciprocal axes are multiplited by this number to make enlarge axes\n",
    "mul_fact = 10000\n",
    "\n",
    "# a_lp_bin: [a_lattice_parameter bin_1, a_lattice_parameter bin_2, bowing]\n",
    "# For ternary_wz we need followings: [a_lp_bin, c_lp_bin, c13_bin, c33_bin]\n",
    "list_binary_parameters = [[AlN_a, GaN_a, bowing_a], [AlN_c, GaN_c, bowing_c],\n",
    "                          [AlN_C13, GaN_C13, bowing_C13], [AlN_C33, GaN_C33, bowing_C33]]"
   ]
  },
  {
   "cell_type": "markdown",
   "id": "9ee0fdc4-6a9b-4ff4-9976-475ef232aa86",
   "metadata": {},
   "source": [
    "# 4. Read xrd-file"
   ]
  },
  {
   "cell_type": "markdown",
   "id": "824942ee-3325-447e-a746-c868d723793d",
   "metadata": {},
   "source": [
    "## 4.1 Real space data"
   ]
  },
  {
   "cell_type": "code",
   "execution_count": null,
   "id": "4e234187-aefb-4f21-9068-6e8779277e76",
   "metadata": {
    "scrolled": true
   },
   "outputs": [],
   "source": [
    "lambda_wavelength, two_theta_values, omega_values, rsm_intesity  = \\\n",
    "    xrd_.xrd_read_data(xrd_file_name=os.path.join(filepath, filename))\n",
    "# X-ray wave number\n",
    "R = 1/lambda_wavelength"
   ]
  },
  {
   "cell_type": "markdown",
   "id": "18dff74a-2fbe-4e61-9fe2-c0f1df63f277",
   "metadata": {},
   "source": [
    "## 4.2 Reciprocal space conversion"
   ]
  },
  {
   "cell_type": "code",
   "execution_count": null,
   "id": "26adcb12-bc14-4258-b6ba-a7e9f09481e9",
   "metadata": {},
   "outputs": [],
   "source": [
    "total_two_theta_in_row = np.shape(rsm_intesity)[1]\n",
    "rec_space_x, rec_space_y = xrd_.Qxy(omega=omega_values, two_theta=two_theta_values, \n",
    "                                    total_two_theta_in_row=total_two_theta_in_row,\n",
    "                                    R=R, mul_fact=mul_fact)"
   ]
  },
  {
   "cell_type": "markdown",
   "id": "bf817f7f-9531-4392-bc53-6c6d579189bf",
   "metadata": {},
   "source": [
    "# 5. Plottings"
   ]
  },
  {
   "cell_type": "markdown",
   "id": "96704b49-d8d0-459e-a845-f65e3f941414",
   "metadata": {},
   "source": [
    "## 5.1 Real space map"
   ]
  },
  {
   "cell_type": "code",
   "execution_count": null,
   "id": "f1808de7-9cbf-4420-a92a-f126be6cdff1",
   "metadata": {},
   "outputs": [],
   "source": [
    "print('Plotting real space map ...')\n",
    "xlabel_text = r'2$\\mathrm{\\theta}$'\n",
    "ylabel_text = r'$\\omega$ / $2\\theta$'\n",
    "save_file_name = 'AlN_AlGaN_AlN_real_space.png' if savefig else None\n",
    "_ = xrd_.xrd_plot(save_figure_dir=save_fig_path, save_file_name=save_file_name, \n",
    "                 mode=\"real_space_calc_omega_by_2theta\", xaxis_label=xlabel_text,threshold_intensity=1e-5,\n",
    "                 yaxis_label=ylabel_text, color_map='jet', color_scale='log', \n",
    "                 colorbar_label='Intensity (counts/s)', show_plot=True, dpi=75)\n",
    "print('Done')"
   ]
  },
  {
   "cell_type": "markdown",
   "id": "1f9653e0-5f5e-4f14-b018-fab2540256f4",
   "metadata": {},
   "source": [
    "## 5.2 Reciprocal space map"
   ]
  },
  {
   "cell_type": "code",
   "execution_count": null,
   "id": "1db880df-7fc5-43b1-a017-63965d1cec58",
   "metadata": {},
   "outputs": [],
   "source": [
    "xlabel_text = f'Qx*{mul_fact} (rlu)'\n",
    "ylabel_text = f'Qy*{mul_fact} (rlu)'\n",
    "print('Plotting reciprocal space map ...')\n",
    "save_file_name = 'AlN_AlGaN_AlN_reciprocal_space.png' if savefig else None\n",
    "_ = xrd_plt.xrd_plot(save_file_name=save_file_name, x_values=rec_space_x, \n",
    "                     y_values=rec_space_y, z_values=rsm_intesity,\n",
    "                     mode=\"reciprocal_space\", xaxis_label=xlabel_text, threshold_intensity=0.1,\n",
    "                     yaxis_label=ylabel_text, color_map='jet', color_scale='log',\n",
    "                     colorbar_label='Intensity (counts/s)', dpi=75)\n",
    "print('Done')"
   ]
  },
  {
   "cell_type": "markdown",
   "id": "c42cb68e-e2c5-46bc-a0da-5923988d856b",
   "metadata": {},
   "source": [
    "## 5.3 Perform post-calculations from maps"
   ]
  },
  {
   "cell_type": "markdown",
   "id": "6748e487-9623-4d11-8700-fb961bb515d3",
   "metadata": {},
   "source": [
    "### 5.3.1 Estimate the compostion and strain relaxation of other peaks in reciprocal space map"
   ]
  },
  {
   "cell_type": "code",
   "execution_count": null,
   "id": "9895d08a-615c-4a57-9dcd-b26912eeafd1",
   "metadata": {},
   "outputs": [],
   "source": [
    "find_results_4_peak = [3730, 9905]"
   ]
  },
  {
   "cell_type": "markdown",
   "id": "924f2c10-e10e-46b6-9fb7-c87cd999dc72",
   "metadata": {},
   "source": [
    "#### 5.3.1.1 Get or define the reference point in data\n",
    "##### E.g. Here we use the highest maximum point as reference (AlN). This will be used as full strain line reference. You use the above figure to decide which point to use as reference."
   ]
  },
  {
   "cell_type": "code",
   "execution_count": null,
   "id": "e168fffc-3390-4969-9af5-f2dfb007afb5",
   "metadata": {
    "scrolled": true
   },
   "outputs": [],
   "source": [
    "##============================================\n",
    "# TBD: make a fitting function to get the maximum positions\n",
    "max_intensity_pos = np.unravel_index(np.argmax(rsm_intesity, axis=None), rsm_intesity.shape)\n",
    "x_coord_max = rec_space_x[max_intensity_pos]\n",
    "y_coord_max = rec_space_y[max_intensity_pos]\n",
    "reference_peak = [x_coord_max, y_coord_max]\n",
    "print(f'Reference peak/point: {x_coord_max}, {y_coord_max}')\n",
    "##============================================"
   ]
  },
  {
   "cell_type": "markdown",
   "id": "88288adf-d9c5-4fe2-b235-b894915429db",
   "metadata": {},
   "source": [
    "#### 5.3.1.2 Calculate reference point theoretically"
   ]
  },
  {
   "cell_type": "code",
   "execution_count": null,
   "id": "235816b9-14b6-46c7-9d3b-3bcbee59628b",
   "metadata": {},
   "outputs": [],
   "source": [
    "# Calculating only for AlN as this is my reference point\n",
    "rec_space_theor_ref_xy = xrd_.Qxy_theor(AlN_a, AlN_c, hkl='105') "
   ]
  },
  {
   "cell_type": "markdown",
   "id": "f0cea56b-bef0-4bd6-8c24-079741709d7d",
   "metadata": {},
   "source": [
    "#### 5.3.1.3 Calculate shift required to map theoretically calculated reference point on original data"
   ]
  },
  {
   "cell_type": "code",
   "execution_count": null,
   "id": "a2c183f6-9246-4002-883d-14d84e658b46",
   "metadata": {},
   "outputs": [],
   "source": [
    "# Calcuate shift amount\n",
    "shift_xy_ = [x_coord_max-rec_space_theor_ref_xy[0], y_coord_max-rec_space_theor_ref_xy[1]]"
   ]
  },
  {
   "cell_type": "markdown",
   "id": "83a6e5a3-ef22-41dd-aff9-92f3fb0fb993",
   "metadata": {},
   "source": [
    "#### 5.3.1.4 Calculate composition and relxation for the other peak"
   ]
  },
  {
   "cell_type": "code",
   "execution_count": null,
   "id": "b3180c3e-a6a6-4993-8cf8-1e5bb6b47226",
   "metadata": {},
   "outputs": [],
   "source": [
    "## optimize_f_args = (peak_coordinate_for which_to find_results, list_binary_parameters, shift_xy_, mul_fact, alloy_type, structure_type, hkl)\n",
    "optimize_f_args = (list_binary_parameters, shift_xy_, mul_fact, alloy_type, structure_type, '105')\n",
    "sol, relaxation, terminal_points = xrd_.find_composition_strain_4_point(find_results_4_peak, reference_peak,\n",
    "                                                                        optimize_f_args, comp_interval=[0, 1], \n",
    "                                                                        root_finding_method='brentq')"
   ]
  },
  {
   "cell_type": "markdown",
   "id": "35b98a5a-6c15-4be7-8cea-399371ef4625",
   "metadata": {},
   "source": [
    "### 5.3.2 Calculate no-relaxation line (theoretically calulated + shifted to reference point)\n",
    "#### Note: This sub-subsection is for visualization "
   ]
  },
  {
   "cell_type": "code",
   "execution_count": null,
   "id": "001c9dde-6bb9-49fb-a5fe-cdef0608092a",
   "metadata": {},
   "outputs": [],
   "source": [
    "comps_ = np.linspace(0.65,1,11) #np.arange(0, 1.0+1e-10, step=0.25) \n",
    "AlGaN_a, AlGaN_c, AlGaN_C13, AlGaN_C33, AlGaN_D = \\\n",
    "    gen_fns.alloy_parameters_from_binary(comps_, list_binary_parameters, \n",
    "                                         alloy_type=alloy_type, structure_type=structure_type)"
   ]
  },
  {
   "cell_type": "markdown",
   "id": "3945021a-9509-4afa-94da-2aa044aaf2ea",
   "metadata": {},
   "source": [
    "#### 5.3.2.1 Completely relaxaed (no-strain) line"
   ]
  },
  {
   "cell_type": "code",
   "execution_count": null,
   "id": "5613dcef-4f02-4d42-8381-c12b6b92fac8",
   "metadata": {},
   "outputs": [],
   "source": [
    "rec_space_theor_shift_AlGaN = xrd_.Qxy_theor(AlGaN_a, AlGaN_c, shift=shift_xy_) # after shift"
   ]
  },
  {
   "cell_type": "markdown",
   "id": "4370cda5-af9d-4741-ac12-32d0f6fd3341",
   "metadata": {},
   "source": [
    "#### 5.3.2.2 No-relaxation (fully strained) line: considering elastic relaxation\n",
    "###### Deformation potential(D) = -2C13/C33 ==> (x1, y2+D(x1-x2))"
   ]
  },
  {
   "cell_type": "code",
   "execution_count": null,
   "id": "0f677806-7d07-4f16-bd0b-390a348b4b8a",
   "metadata": {},
   "outputs": [],
   "source": [
    "rec_space_AlGaN_full_strain_y_prime = xrd_.get_full_strain_line(reference_peak, rec_space_theor_shift_AlGaN, AlGaN_D)[1]"
   ]
  },
  {
   "cell_type": "markdown",
   "id": "84871735-c354-47b7-912b-b26ad078cbda",
   "metadata": {},
   "source": [
    "#### 5.3.2.3 Plot all together"
   ]
  },
  {
   "cell_type": "code",
   "execution_count": null,
   "id": "e142da6c-eea0-4c7d-a0ea-08d7dfbf07eb",
   "metadata": {},
   "outputs": [],
   "source": [
    "#====================== Plot the map =================================\n",
    "save_file_name = 'AlN_AlGaN_AlN_2reciprocal_space.png' if savefig else None\n",
    "fig, ax, _ = xrd_plt.xrd_plot(save_file_name=None, x_values=rec_space_x, \n",
    "                              y_values=rec_space_y, z_values=rsm_intesity,threshold_intensity=1e-5,\n",
    "                              mode=\"reciprocal_space\", xaxis_label=xlabel_text,\n",
    "                              yaxis_label=ylabel_text, color_map='jet', color_scale='log',\n",
    "                              colorbar_label='Intensity (counts/s)')\n",
    "\n",
    "#==================== add no-strain lines (red dash) ==================\n",
    "ax.plot(rec_space_theor_shift_AlGaN[0], rec_space_theor_shift_AlGaN[1], color='r', ls='-.')\n",
    "\n",
    "#==================== add reference lines (black dash) ================\n",
    "ax.axhline(y=y_coord_max, ls='--', color='black')\n",
    "ax.axvline(x=x_coord_max, ls='--', color='black')\n",
    "\n",
    "#==================== add required peak (blue cross) ===================\n",
    "ax.scatter(find_results_4_peak[0], find_results_4_peak[1], marker='o', color='c')\n",
    "\n",
    "#========= add no_strain-strain connecting points (green dash) =========\n",
    "for JJ in range(len(comps_)):\n",
    "    ax.plot([rec_space_theor_shift_AlGaN[0][JJ], x_coord_max],\n",
    "            [rec_space_theor_shift_AlGaN[1][JJ], rec_space_AlGaN_full_strain_y_prime[JJ]], \n",
    "            color='g', ls='-.', marker='.')\n",
    "\n",
    "#========= add no_strain-strain connecting points (blue dash) =========\n",
    "ax.plot(terminal_points[:,0], terminal_points[:,1], color='b', ls='-', marker='x')\n",
    "\n",
    "if savefig:\n",
    "    xrd_plt.save_figure(save_file_name, fig=fig, dpi=75)\n",
    "    plt.close()\n",
    "\n",
    "# #=========== Add coordinates ===============================\n",
    "ax.annotate(r'($x_1, y_1$)', (x_coord_max+5, y_coord_max+5))\n",
    "ax.annotate(r'($x_2, y_2$)', (rec_space_theor_shift_AlGaN[0][7]-50, rec_space_theor_shift_AlGaN[1][7]))\n",
    "ax.annotate(r'($x_3, y_3$) = ($x_1, y_3+D(x_1-X_3)$)', (rec_space_theor_shift_AlGaN[0][7]+25, rec_space_theor_shift_AlGaN[1][7]-20))"
   ]
  }
 ],
 "metadata": {
  "kernelspec": {
   "display_name": "Python 3 (ipykernel)",
   "language": "python",
   "name": "python3"
  },
  "language_info": {
   "codemirror_mode": {
    "name": "ipython",
    "version": 3
   },
   "file_extension": ".py",
   "mimetype": "text/x-python",
   "name": "python",
   "nbconvert_exporter": "python",
   "pygments_lexer": "ipython3",
   "version": "3.12.2"
  }
 },
 "nbformat": 4,
 "nbformat_minor": 5
}
