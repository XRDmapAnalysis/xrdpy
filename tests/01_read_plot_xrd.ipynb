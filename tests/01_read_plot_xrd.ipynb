{
 "cells": [
  {
   "cell_type": "markdown",
   "id": "b6535595-650d-4d88-bbdd-59462ec6ce1a",
   "metadata": {},
   "source": [
    "# 1. Load modules"
   ]
  },
  {
   "cell_type": "code",
   "execution_count": 2,
   "id": "445d2204-62f0-450d-8f9e-3f23d013197c",
   "metadata": {},
   "outputs": [],
   "source": [
    "%matplotlib widget \n",
    "#%matplotlib notebook\n",
    "import matplotlib.pyplot as plt\n",
    "import numpy as np\n",
    "from matplotlib import colors\n",
    "import matplotlib.ticker as ticker\n",
    "from scipy import optimize\n",
    "import os, sys\n",
    "from pathlib import Path\n",
    "import xrdpy"
   ]
  },
  {
   "cell_type": "markdown",
   "id": "9a4a87f4-f6b0-4bb6-891f-a36175eb0423",
   "metadata": {},
   "source": [
    "# 2. Set up the xrd-file path"
   ]
  },
  {
   "cell_type": "code",
   "execution_count": 3,
   "id": "7734948f-4320-456d-ad60-c9cdbef970ae",
   "metadata": {},
   "outputs": [],
   "source": [
    "xrdpy_test_path = Path().absolute()"
   ]
  },
  {
   "cell_type": "code",
   "execution_count": 4,
   "id": "eb5bba09-83c3-4665-8106-46afdcae90c1",
   "metadata": {},
   "outputs": [],
   "source": [
    "filepath = os.path.join(xrdpy_test_path,\"xrd_files\")\n",
    "filename = \"NT3334C_RSM_w2T-2T-105AlN-AlGaN_fast.xrdml\""
   ]
  },
  {
   "cell_type": "code",
   "execution_count": 5,
   "id": "2f472658-a3cf-439d-b4f4-67e6318d306c",
   "metadata": {},
   "outputs": [],
   "source": [
    "savefig = True\n",
    "save_fig_path = os.path.join(xrdpy_test_path,\"../imgs\")"
   ]
  },
  {
   "cell_type": "code",
   "execution_count": 6,
   "id": "ba8eb2d4-30a1-4aa7-8ee2-738ae63dbf55",
   "metadata": {},
   "outputs": [],
   "source": [
    "gen_fns = xrdpy.general_fns(print_log='low')\n",
    "xrd_ = xrdpy.xrd(print_log='low')\n",
    "xrd_plt = xrdpy.plottings(save_figure_dir=save_fig_path, print_log='low')"
   ]
  },
  {
   "cell_type": "markdown",
   "id": "b7a8a4a3-9699-4fcb-821e-681dda8b5023",
   "metadata": {},
   "source": [
    "# 3. Set default variables\n",
    "\n",
    "#### Variable source: https://www.ioffe.ru/SVA/NSM/Semicond/"
   ]
  },
  {
   "cell_type": "code",
   "execution_count": 7,
   "id": "b4d8047c-c3a6-4467-9e37-8272c998ab6f",
   "metadata": {},
   "outputs": [],
   "source": [
    "alloy_type='ternary' \n",
    "structure_type='wz'\n",
    "\n",
    "# Lattice parameters for AlN and GaN binaries\n",
    "AlN_a, AlN_c = 3.112, 4.982\n",
    "GaN_a, GaN_c = 3.189, 5.185    \n",
    "\n",
    "# Cij parameters for AlN and GaN binaries\n",
    "GaN_C13 = 106\n",
    "GaN_C33 = 398\n",
    "AlN_C13 = 108\n",
    "AlN_C33 = 373\n",
    "\n",
    "# Bowing parameters\n",
    "bowing_a = 0.0\n",
    "bowing_c = 0.0\n",
    "bowing_C13 = 0.0\n",
    "bowing_C33 = 0.0\n",
    "\n",
    "# reciprocal axes are multiplited by this number to make enlarge axes\n",
    "mul_fact = 10000\n",
    "\n",
    "# a_lp_bin: [a_lattice_parameter bin_1, a_lattice_parameter bin_2, bowing]\n",
    "# For ternary_wz we need followings: [a_lp_bin, c_lp_bin, c13_bin, c33_bin]\n",
    "list_binary_parameters = [[AlN_a, GaN_a, bowing_a], [AlN_c, GaN_c, bowing_c],\n",
    "                          [AlN_C13, GaN_C13, bowing_C13], [AlN_C33, GaN_C33, bowing_C33]]"
   ]
  },
  {
   "cell_type": "markdown",
   "id": "9ee0fdc4-6a9b-4ff4-9976-475ef232aa86",
   "metadata": {},
   "source": [
    "# 4. Read xrd-file"
   ]
  },
  {
   "cell_type": "markdown",
   "id": "824942ee-3325-447e-a746-c868d723793d",
   "metadata": {},
   "source": [
    "## 4.1 Real space data"
   ]
  },
  {
   "cell_type": "code",
   "execution_count": 8,
   "id": "4e234187-aefb-4f21-9068-6e8779277e76",
   "metadata": {
    "scrolled": true
   },
   "outputs": [
    {
     "name": "stdout",
     "output_type": "stream",
     "text": [
      "Wavelength used: 1.5405980\n"
     ]
    }
   ],
   "source": [
    "lambda_wavelength, two_theta_values, omega_values, rsm_intesity  = \\\n",
    "    xrd_.xrd_read_data(xrd_file_name=os.path.join(filepath, filename))\n",
    "# X-ray wave number\n",
    "R = 1/lambda_wavelength"
   ]
  },
  {
   "cell_type": "markdown",
   "id": "18dff74a-2fbe-4e61-9fe2-c0f1df63f277",
   "metadata": {},
   "source": [
    "## 4.2 Reciprocal space conversion"
   ]
  },
  {
   "cell_type": "code",
   "execution_count": 9,
   "id": "26adcb12-bc14-4258-b6ba-a7e9f09481e9",
   "metadata": {},
   "outputs": [],
   "source": [
    "total_two_theta_in_row = np.shape(rsm_intesity)[1]\n",
    "rec_space_x, rec_space_y = xrd_.Qxy(omega=omega_values, two_theta=two_theta_values, \n",
    "                                    total_two_theta_in_row=total_two_theta_in_row,\n",
    "                                    R=R, mul_fact=mul_fact)"
   ]
  },
  {
   "cell_type": "markdown",
   "id": "bf817f7f-9531-4392-bc53-6c6d579189bf",
   "metadata": {},
   "source": [
    "# 5. Plottings"
   ]
  },
  {
   "cell_type": "markdown",
   "id": "96704b49-d8d0-459e-a845-f65e3f941414",
   "metadata": {},
   "source": [
    "## 5.1 Real space map"
   ]
  },
  {
   "cell_type": "code",
   "execution_count": 10,
   "id": "f1808de7-9cbf-4420-a92a-f126be6cdff1",
   "metadata": {},
   "outputs": [
    {
     "name": "stdout",
     "output_type": "stream",
     "text": [
      "Plotting real space map ...\n",
      "Done\n"
     ]
    }
   ],
   "source": [
    "print('Plotting real space map ...')\n",
    "xlabel_text = r'2$\\mathrm{\\theta}$'\n",
    "ylabel_text = r'$\\omega$ / $2\\theta$'\n",
    "save_file_name = 'AlN_AlGaN_AlN_real_space.png' if savefig else None\n",
    "_ = xrd_.xrd_plot(save_figure_dir=save_fig_path, save_file_name=save_file_name, \n",
    "                  mode=\"real_space\", xaxis_label=xlabel_text,threshold_intensity=1e-5,\n",
    "                  yaxis_label=ylabel_text, color_map='jet', color_scale='log', \n",
    "                  colorbar_label='Intensity (counts/s)', show_plot=True, \n",
    "                  savefig=savefig, dpi=75)\n",
    "print('Done')"
   ]
  },
  {
   "cell_type": "markdown",
   "id": "1f9653e0-5f5e-4f14-b018-fab2540256f4",
   "metadata": {},
   "source": [
    "## 5.2 Reciprocal space map (without shift)"
   ]
  },
  {
   "cell_type": "markdown",
   "id": "2fab58f6-10df-4253-ad4a-0ae204213a88",
   "metadata": {},
   "source": [
    "### 5.2.1 Reciprocal space map (single)"
   ]
  },
  {
   "cell_type": "code",
   "execution_count": 11,
   "id": "1db880df-7fc5-43b1-a017-63965d1cec58",
   "metadata": {},
   "outputs": [
    {
     "name": "stdout",
     "output_type": "stream",
     "text": [
      "Plotting reciprocal space map (without any shift)...\n",
      "Done\n"
     ]
    }
   ],
   "source": [
    "xlabel_text = f'Qx*{mul_fact} (rlu)'\n",
    "ylabel_text = f'Qy*{mul_fact} (rlu)'\n",
    "print('Plotting reciprocal space map (without any shift)...')\n",
    "save_file_name = 'AlN_AlGaN_AlN_reciprocal_space.png' if savefig else None\n",
    "_ = xrd_plt.xrd_plot(save_file_name=save_file_name, x_values=rec_space_x, \n",
    "                     y_values=rec_space_y, z_values=rsm_intesity,\n",
    "                     mode=\"reciprocal_space\", xaxis_label=xlabel_text, threshold_intensity=0.1,\n",
    "                     yaxis_label=ylabel_text, color_map='jet', color_scale='log',\n",
    "                     colorbar_label='Intensity (counts/s)', savefig=savefig, dpi=75)\n",
    "print('Done')"
   ]
  },
  {
   "cell_type": "code",
   "execution_count": null,
   "id": "7f82b620-f468-410f-a33a-feaccef23961",
   "metadata": {},
   "outputs": [],
   "source": []
  }
 ],
 "metadata": {
  "kernelspec": {
   "display_name": "Python 3 (ipykernel)",
   "language": "python",
   "name": "python3"
  },
  "language_info": {
   "codemirror_mode": {
    "name": "ipython",
    "version": 3
   },
   "file_extension": ".py",
   "mimetype": "text/x-python",
   "name": "python",
   "nbconvert_exporter": "python",
   "pygments_lexer": "ipython3",
   "version": "3.12.3"
  }
 },
 "nbformat": 4,
 "nbformat_minor": 5
}
